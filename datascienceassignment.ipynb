{
  "nbformat": 4,
  "nbformat_minor": 0,
  "metadata": {
    "colab": {
      "provenance": [],
      "toc_visible": true,
      "authorship_tag": "ABX9TyMeWfOdLpC0vrlQ5XYT4zCk",
      "include_colab_link": true
    },
    "kernelspec": {
      "name": "python3",
      "display_name": "Python 3"
    },
    "language_info": {
      "name": "python"
    }
  },
  "cells": [
    {
      "cell_type": "markdown",
      "metadata": {
        "id": "view-in-github",
        "colab_type": "text"
      },
      "source": [
        "<a href=\"https://colab.research.google.com/github/ryukirisame/justforsaving/blob/main/datascienceassignment.ipynb\" target=\"_parent\"><img src=\"https://colab.research.google.com/assets/colab-badge.svg\" alt=\"Open In Colab\"/></a>"
      ]
    },
    {
      "cell_type": "markdown",
      "source": [
        "# **QUESTION**\n",
        "**Take a dataset and apply various statistics methods to it and plot it.**"
      ],
      "metadata": {
        "id": "YogjpnVc8_z2"
      }
    },
    {
      "cell_type": "markdown",
      "source": [
        "#### **MEAN**"
      ],
      "metadata": {
        "id": "wGTAkLHJer6z"
      }
    },
    {
      "cell_type": "code",
      "source": [
        "from __future__ import division\n",
        "from collections import Counter"
      ],
      "metadata": {
        "id": "ywIXyXoj9Ykj"
      },
      "execution_count": 69,
      "outputs": []
    },
    {
      "cell_type": "code",
      "source": [
        "def mean(x):\n",
        "  return sum(x) / len(x)"
      ],
      "metadata": {
        "id": "vQJ7yGpTeu00"
      },
      "execution_count": 3,
      "outputs": []
    },
    {
      "cell_type": "markdown",
      "source": [
        "#### **MEDIAN**"
      ],
      "metadata": {
        "id": "9YtuklQXeyFq"
      }
    },
    {
      "cell_type": "code",
      "source": [
        "def median(v):\n",
        "  \n",
        "  n = len(v)\n",
        "  sorted_v = sorted(v)\n",
        "  midpoint = n // 2\n",
        "  if n % 2 == 1:\n",
        "    return sorted_v[midpoint]\n",
        "  else: \n",
        "    lo = midpoint - 1\n",
        "    hi = midpoint\n",
        "    return (sorted_v[lo] + sorted_v[hi]) / 2"
      ],
      "metadata": {
        "id": "lIJ4kcKKe0em"
      },
      "execution_count": 4,
      "outputs": []
    },
    {
      "cell_type": "markdown",
      "source": [
        "#### **QUANTILE**"
      ],
      "metadata": {
        "id": "S50_V0kFfDZo"
      }
    },
    {
      "cell_type": "code",
      "source": [
        "def quantile(x, p):\n",
        "  p_index = int(p * len(x))\n",
        "  return sorted(x)[p_index]"
      ],
      "metadata": {
        "id": "JJNjlUwRfFy5"
      },
      "execution_count": 5,
      "outputs": []
    },
    {
      "cell_type": "markdown",
      "source": [
        "#### **MODE**"
      ],
      "metadata": {
        "id": "a-a2_yPLfXcY"
      }
    },
    {
      "cell_type": "code",
      "source": [
        "def mode(numb):\n",
        "    n = len(numb)\n",
        "    val = Counter(numb)\n",
        "    findMode = dict(val)\n",
        "    mode = [i for i, v in findMode.items() if v == max(list(val.values()))]  \n",
        "    if len(mode) == n:\n",
        "        findMode = \"Dont have any mode\"\n",
        "    else:\n",
        "        findMode =  mode[0]\n",
        "    return findMode"
      ],
      "metadata": {
        "id": "kbnI1C7PfcWX"
      },
      "execution_count": 66,
      "outputs": []
    },
    {
      "cell_type": "markdown",
      "source": [
        "#### **DISPERSION**"
      ],
      "metadata": {
        "id": "tE5l6IRufwmk"
      }
    },
    {
      "cell_type": "code",
      "source": [
        "def data_range(x):\n",
        "  return max(x) - min(x)"
      ],
      "metadata": {
        "id": "X2O8ScC9f1Su"
      },
      "execution_count": 7,
      "outputs": []
    },
    {
      "cell_type": "markdown",
      "source": [
        "#### **VARIANCE**"
      ],
      "metadata": {
        "id": "zc437houf6Ok"
      }
    },
    {
      "cell_type": "code",
      "source": [
        "def dot(v, w):\n",
        "  return sum(v_i * w_i for v_i, w_i in zip(v, w))"
      ],
      "metadata": {
        "id": "eGp-yCaIgwQ_"
      },
      "execution_count": 8,
      "outputs": []
    },
    {
      "cell_type": "code",
      "source": [
        "def sum_of_squares(v):\n",
        "  return dot(v, v)"
      ],
      "metadata": {
        "id": "JLzOyuvPgfp1"
      },
      "execution_count": 9,
      "outputs": []
    },
    {
      "cell_type": "code",
      "source": [
        "def de_mean(x):\n",
        "  x_bar = mean(x)\n",
        "  return [x_i - x_bar for x_i in x]\n",
        "\n",
        "def variance(x):\n",
        "  n = len(x)\n",
        "  deviations = de_mean(x)\n",
        "  return sum_of_squares(deviations) / (n - 1)"
      ],
      "metadata": {
        "id": "3ixua4UDgGEi"
      },
      "execution_count": 10,
      "outputs": []
    },
    {
      "cell_type": "markdown",
      "source": [
        "#### **STANDARD DEVIATION**"
      ],
      "metadata": {
        "id": "Wj6apGfig-i0"
      }
    },
    {
      "cell_type": "code",
      "source": [
        "import math"
      ],
      "metadata": {
        "id": "34PMriV1hIfk"
      },
      "execution_count": 11,
      "outputs": []
    },
    {
      "cell_type": "code",
      "source": [
        "def standard_deviation(x):\n",
        "  return math.sqrt(variance(x))"
      ],
      "metadata": {
        "id": "lxYvslQIhEOA"
      },
      "execution_count": 12,
      "outputs": []
    },
    {
      "cell_type": "markdown",
      "source": [
        "#### **COVARIANCE**"
      ],
      "metadata": {
        "id": "n-qaPLaOjASt"
      }
    },
    {
      "cell_type": "code",
      "source": [
        "def covariance(x, y):\n",
        "  n = len(x)\n",
        "  return dot(de_mean(x), de_mean(y)) / (n - 1)"
      ],
      "metadata": {
        "id": "TVfz0GJ6jIcy"
      },
      "execution_count": 13,
      "outputs": []
    },
    {
      "cell_type": "markdown",
      "source": [
        "#### **CORRELATION**"
      ],
      "metadata": {
        "id": "Ibsw5GFKjYjq"
      }
    },
    {
      "cell_type": "code",
      "source": [
        "def correlation(x, y):\n",
        "  stdev_x = standard_deviation(x)\n",
        "  stdev_y = standard_deviation(y)\n",
        "  if stdev_x > 0 and stdev_y > 0:\n",
        "    return covariance(x, y) / stdev_x / stdev_y\n",
        "  else:\n",
        "    return 0 "
      ],
      "metadata": {
        "id": "_lupO9SfjO8L"
      },
      "execution_count": 14,
      "outputs": []
    },
    {
      "cell_type": "markdown",
      "source": [
        "#### **WORKING ON DATA**"
      ],
      "metadata": {
        "id": "I0rbtkTElhmg"
      }
    },
    {
      "cell_type": "markdown",
      "source": [
        "I have worked on twitter friends data which contains two features friendsCount and followersCount."
      ],
      "metadata": {
        "id": "VvP8N0tf-Hxv"
      }
    },
    {
      "cell_type": "code",
      "source": [
        "import pandas as pd\n",
        "import numpy as np"
      ],
      "metadata": {
        "id": "0JVAzr4olhAt"
      },
      "execution_count": 15,
      "outputs": []
    },
    {
      "cell_type": "code",
      "source": [
        "data=pd.read_csv('twitter.csv')"
      ],
      "metadata": {
        "id": "n1Sa65TVlvN3"
      },
      "execution_count": 16,
      "outputs": []
    },
    {
      "cell_type": "code",
      "source": [
        "friendsCount=data.loc[:80, 'friendsCount']"
      ],
      "metadata": {
        "id": "7-Du53wwoKOI"
      },
      "execution_count": 30,
      "outputs": []
    },
    {
      "cell_type": "code",
      "source": [
        "followersCount=data.loc[:80, 'followersCount']"
      ],
      "metadata": {
        "id": "Kwrfx5uRoXpH"
      },
      "execution_count": 31,
      "outputs": []
    },
    {
      "cell_type": "code",
      "source": [
        "friendsCount=friendsCount.to_numpy()\n",
        "friendsCount"
      ],
      "metadata": {
        "colab": {
          "base_uri": "https://localhost:8080/",
          "height": 0
        },
        "id": "IML_AV7nopYp",
        "outputId": "fa4c028d-0e4c-4203-b2d6-e889d6b69650"
      },
      "execution_count": 32,
      "outputs": [
        {
          "output_type": "execute_result",
          "data": {
            "text/plain": [
              "array([ 112,  115,  107,  325,  218,  131,  111,  281,  186,  226,  193,\n",
              "        110,  169,  122,  277, 1059,  144,  112,  152,  180,  132,  140,\n",
              "        141,  110,  230,  186,  388,  257,  134,  650,  330,  325,  121,\n",
              "        120,  104,  130,  187,  124,  171,  105,  146,  147,  808,  129,\n",
              "        158,  121,  282,  284,  395,  382,  299,  155,  151,  464,  176,\n",
              "       1587,  165,  330,  105,  106,  288,  246,  146,  602,  127,  183,\n",
              "        134,  582,  163,  184,  149,  115,  162,  350,  141,  125,  123,\n",
              "        154,  234,  530,  153])"
            ]
          },
          "metadata": {},
          "execution_count": 32
        }
      ]
    },
    {
      "cell_type": "code",
      "source": [
        "followersCount=followersCount.to_numpy()\n",
        "followersCount"
      ],
      "metadata": {
        "colab": {
          "base_uri": "https://localhost:8080/",
          "height": 0
        },
        "id": "M1NO53ttpTMF",
        "outputId": "a643f814-dbd6-424a-92c8-335c514d860d"
      },
      "execution_count": 33,
      "outputs": [
        {
          "output_type": "execute_result",
          "data": {
            "text/plain": [
              "array([ 319,  275,  120,  492,  128,  479, 1875,  582,  688,  204,  859,\n",
              "        138,  193,  243,  384, 1046,  111,  228,  413,  567,  142,  105,\n",
              "        129,  178,  167,  258,  414,  276,  140,  249,  155,  376,  111,\n",
              "        184,  143,  250,  301,  121,  114,  291,  112,  115,  205,  175,\n",
              "        464,  234,  483,  170,  118,  214,  499,  278,  131,  411,  195,\n",
              "       1223,  166,  269,  262,  377,  117,  374,  167,  632,  128,  131,\n",
              "        276,  616,  233,  112,  312,  159,  425,  154,  220, 1076,  131,\n",
              "        114,  273,  354,  634])"
            ]
          },
          "metadata": {},
          "execution_count": 33
        }
      ]
    },
    {
      "cell_type": "markdown",
      "source": [
        "#### **STATISTICS** "
      ],
      "metadata": {
        "id": "1DVsZRCdpmcS"
      }
    },
    {
      "cell_type": "code",
      "source": [
        "print(mean(friendsCount))"
      ],
      "metadata": {
        "colab": {
          "base_uri": "https://localhost:8080/",
          "height": 0
        },
        "id": "T9pYJqOvpl-E",
        "outputId": "f5886924-049a-4f86-ff74-a59cfd273786"
      },
      "execution_count": 36,
      "outputs": [
        {
          "output_type": "stream",
          "name": "stdout",
          "text": [
            "243.1604938271605\n"
          ]
        }
      ]
    },
    {
      "cell_type": "code",
      "source": [
        "print(mean(followersCount))"
      ],
      "metadata": {
        "colab": {
          "base_uri": "https://localhost:8080/",
          "height": 0
        },
        "id": "CetJ60v5qWDS",
        "outputId": "5af4c052-b638-4e27-dea0-406ea8492c14"
      },
      "execution_count": 37,
      "outputs": [
        {
          "output_type": "stream",
          "name": "stdout",
          "text": [
            "323.2962962962963\n"
          ]
        }
      ]
    },
    {
      "cell_type": "code",
      "source": [
        "print(median(friendsCount))\n",
        "print(median(followersCount))"
      ],
      "metadata": {
        "colab": {
          "base_uri": "https://localhost:8080/",
          "height": 0
        },
        "id": "DxGRJFETqjv5",
        "outputId": "50ea700a-f3fe-4c05-b794-ec68d084129c"
      },
      "execution_count": 38,
      "outputs": [
        {
          "output_type": "stream",
          "name": "stdout",
          "text": [
            "162\n",
            "234\n"
          ]
        }
      ]
    },
    {
      "cell_type": "code",
      "source": [
        "print(mode(friendsCount))\n",
        "print(mode(followersCount))"
      ],
      "metadata": {
        "colab": {
          "base_uri": "https://localhost:8080/",
          "height": 0
        },
        "id": "97ezelGE2BMh",
        "outputId": "7c0174a9-bf8d-49a0-9a9a-18c85af4752e"
      },
      "execution_count": 68,
      "outputs": [
        {
          "output_type": "stream",
          "name": "stdout",
          "text": [
            "112\n",
            "131\n"
          ]
        }
      ]
    },
    {
      "cell_type": "code",
      "source": [
        "print(quantile(friendsCount, 0.10))\n",
        "print(quantile(friendsCount, 0.40))\n",
        "print(quantile(followersCount, 0.10))\n",
        "print(quantile(followersCount, 0.40))"
      ],
      "metadata": {
        "colab": {
          "base_uri": "https://localhost:8080/",
          "height": 0
        },
        "id": "J1lipaA8qsql",
        "outputId": "44b4c6bc-453d-4fc9-f965-a0c4d9220f31"
      },
      "execution_count": 39,
      "outputs": [
        {
          "output_type": "stream",
          "name": "stdout",
          "text": [
            "112\n",
            "147\n",
            "117\n",
            "193\n"
          ]
        }
      ]
    },
    {
      "cell_type": "code",
      "source": [
        "print(data_range(friendsCount))\n",
        "print(data_range(followersCount))"
      ],
      "metadata": {
        "colab": {
          "base_uri": "https://localhost:8080/",
          "height": 0
        },
        "id": "QBL_oFTKq89B",
        "outputId": "65656f00-14f5-4737-b2e3-ba82561b25f7"
      },
      "execution_count": 44,
      "outputs": [
        {
          "output_type": "stream",
          "name": "stdout",
          "text": [
            "1483\n",
            "1770\n"
          ]
        }
      ]
    },
    {
      "cell_type": "code",
      "source": [
        "print(variance(friendsCount))\n",
        "print(variance(followersCount))"
      ],
      "metadata": {
        "colab": {
          "base_uri": "https://localhost:8080/",
          "height": 0
        },
        "id": "6kTupK5FsBdR",
        "outputId": "bac6ea46-319d-4592-aff8-db5128fd9be3"
      },
      "execution_count": 45,
      "outputs": [
        {
          "output_type": "stream",
          "name": "stdout",
          "text": [
            "50444.13641975309\n",
            "82296.83611111113\n"
          ]
        }
      ]
    },
    {
      "cell_type": "code",
      "source": [
        "print(standard_deviation(friendsCount))\n",
        "print(standard_deviation(followersCount))"
      ],
      "metadata": {
        "colab": {
          "base_uri": "https://localhost:8080/",
          "height": 0
        },
        "id": "9iR_etu0sLWS",
        "outputId": "bee563ae-b418-42b6-ee61-5506d1862667"
      },
      "execution_count": 47,
      "outputs": [
        {
          "output_type": "stream",
          "name": "stdout",
          "text": [
            "224.59772131469433\n",
            "286.87425139093807\n"
          ]
        }
      ]
    },
    {
      "cell_type": "code",
      "source": [
        "print(covariance(friendsCount, followersCount))"
      ],
      "metadata": {
        "colab": {
          "base_uri": "https://localhost:8080/",
          "height": 0
        },
        "id": "LcWRktOYsgZF",
        "outputId": "ad60e43c-3497-4318-bf2a-b0a796cceaa2"
      },
      "execution_count": 54,
      "outputs": [
        {
          "output_type": "stream",
          "name": "stdout",
          "text": [
            "25968.901851851853\n"
          ]
        }
      ]
    },
    {
      "cell_type": "markdown",
      "source": [],
      "metadata": {
        "id": "v0bdWWof9ySO"
      }
    },
    {
      "cell_type": "code",
      "source": [
        "print(correlation(followersCount, friendsCount))"
      ],
      "metadata": {
        "colab": {
          "base_uri": "https://localhost:8080/",
          "height": 0
        },
        "id": "uPsTF00Ctf-c",
        "outputId": "b995c57e-9583-4dcf-8da3-07bc433c0980"
      },
      "execution_count": 53,
      "outputs": [
        {
          "output_type": "stream",
          "name": "stdout",
          "text": [
            "0.4030479064631009\n"
          ]
        }
      ]
    },
    {
      "cell_type": "markdown",
      "source": [
        "#### **PLOTTING**"
      ],
      "metadata": {
        "id": "TIKL_1G9vDI9"
      }
    },
    {
      "cell_type": "code",
      "source": [
        "import matplotlib.pyplot as plt"
      ],
      "metadata": {
        "id": "xyQexpVNvkPs"
      },
      "execution_count": 55,
      "outputs": []
    },
    {
      "cell_type": "code",
      "source": [
        "plot=pd.DataFrame({'friends':friendsCount, 'followers':followersCount})[:20]\n",
        "plot.reset_index(inplace=True)\n",
        "plot.plot(x='index',kind='bar', figsize=(20,8))\n",
        "plt.title('friends vs followers')\n",
        "plt.show()"
      ],
      "metadata": {
        "colab": {
          "base_uri": "https://localhost:8080/",
          "height": 503
        },
        "id": "tXla63iUvWN4",
        "outputId": "b92c1e25-d9e0-4885-bbbe-7fff5478e9dd"
      },
      "execution_count": 58,
      "outputs": [
        {
          "output_type": "display_data",
          "data": {
            "text/plain": [
              "<Figure size 2000x800 with 1 Axes>"
            ],
            "image/png": "[encoded data removed]"
          },
          "metadata": {}
        }
      ]
    },
    {
      "cell_type": "code",
      "source": [
        "plt.scatter(friendsCount, followersCount)\n",
        "plt.xlabel('Friends')\n",
        "plt.ylabel('Followers')\n",
        "plt.show()"
      ],
      "metadata": {
        "colab": {
          "base_uri": "https://localhost:8080/",
          "height": 449
        },
        "id": "bIQNrnejwKHI",
        "outputId": "06390f53-b85b-4582-b5da-ef56a66c79ff"
      },
      "execution_count": 60,
      "outputs": [
        {
          "output_type": "display_data",
          "data": {
            "text/plain": [
              "<Figure size 640x480 with 1 Axes>"
            ],
            "image/png": "[encoded data removed]"
          },
          "metadata": {}
        }
      ]
    },
    {
      "cell_type": "code",
      "source": [
        "plt.plot(friendsCount)\n",
        "plt.plot(followersCount)\n",
        "plt.show()"
      ],
      "metadata": {
        "colab": {
          "base_uri": "https://localhost:8080/",
          "height": 430
        },
        "id": "7NRGB6fsw_Eq",
        "outputId": "b3cc84df-6bd4-47f7-cb0c-d4a8f2ea9a01"
      },
      "execution_count": 61,
      "outputs": [
        {
          "output_type": "display_data",
          "data": {
            "text/plain": [
              "<Figure size 640x480 with 1 Axes>"
            ],
            "image/png": "[encoded data removed]"
          },
          "metadata": {}
        }
      ]
    },
    {
      "cell_type": "code",
      "source": [
        "plt.hist(friendsCount)\n",
        "plt.xlabel('FRIENDS')\n",
        "plt.ylabel('COUNT')\n",
        "plt.show()"
      ],
      "metadata": {
        "colab": {
          "base_uri": "https://localhost:8080/",
          "height": 449
        },
        "id": "UYTBcDAuxd7v",
        "outputId": "631cb80a-2ea1-4546-f266-bb3b93a3b2e7"
      },
      "execution_count": 64,
      "outputs": [
        {
          "output_type": "display_data",
          "data": {
            "text/plain": [
              "<Figure size 640x480 with 1 Axes>"
            ],
            "image/png": "[encoded data removed]"
          },
          "metadata": {}
        }
      ]
    },
    {
      "cell_type": "code",
      "source": [
        "plt.hist(followersCount)\n",
        "plt.xlabel('FOLLOWERS')\n",
        "plt.ylabel('COUNT')\n",
        "plt.show()"
      ],
      "metadata": {
        "colab": {
          "base_uri": "https://localhost:8080/",
          "height": 449
        },
        "id": "lESbsd2vxkMZ",
        "outputId": "9796f1a8-0272-498f-846a-5b22ccc897f0"
      },
      "execution_count": 65,
      "outputs": [
        {
          "output_type": "display_data",
          "data": {
            "text/plain": [
              "<Figure size 640x480 with 1 Axes>"
            ],
            "image/png": "[encoded data removed]"
          },
          "metadata": {}
        }
      ]
    },
    {
      "cell_type": "markdown",
      "source": [
        "# **QUESTION**\n",
        "**Apply Chi-Square test on a dataset**"
      ],
      "metadata": {
        "id": "OrH-jxa29z65"
      }
    },
    {
      "cell_type": "code",
      "source": [
        "from scipy.stats import chi2_contingency\n",
        "\n",
        "data = {'Gender': ['Male', 'Female', 'Male', 'Female', 'Female', 'Male', 'Male', 'Female', 'Female',],\n",
        " 'likesShopping': ['No', 'Yes', 'Yes', 'Yes', 'Yes', 'Yes', 'No', 'No', 'No']}\n",
        "df = pd.DataFrame(data)"
      ],
      "metadata": {
        "id": "Zy9txePI-BGd"
      },
      "execution_count": 81,
      "outputs": []
    },
    {
      "cell_type": "code",
      "source": [
        "#Contingency Table\n",
        "contingency_table=pd.crosstab(data[\"Gender\"],data[\"likesShopping\"])\n",
        "print('contingency_table :-\\n',contingency_table)"
      ],
      "metadata": {
        "colab": {
          "base_uri": "https://localhost:8080/"
        },
        "id": "3vQLxWPEEkig",
        "outputId": "055eafa3-b539-4276-c1b9-e49f9df18fb3"
      },
      "execution_count": 85,
      "outputs": [
        {
          "output_type": "stream",
          "name": "stdout",
          "text": [
            "contingency_table :-\n",
            " col_0   No  Yes\n",
            "row_0          \n",
            "Female   2    3\n",
            "Male     2    2\n"
          ]
        }
      ]
    },
    {
      "cell_type": "code",
      "source": [
        "Observed_Values = contingency_table.values \n",
        "print(\"Observed Values :-\\n\",Observed_Values)"
      ],
      "metadata": {
        "colab": {
          "base_uri": "https://localhost:8080/"
        },
        "id": "NeC8i6IZE-mO",
        "outputId": "8d5dde9c-0703-49ce-f94f-44d2c422d2b8"
      },
      "execution_count": 86,
      "outputs": [
        {
          "output_type": "stream",
          "name": "stdout",
          "text": [
            "Observed Values :-\n",
            " [[2 3]\n",
            " [2 2]]\n"
          ]
        }
      ]
    },
    {
      "cell_type": "code",
      "source": [
        "#Expected Values\n",
        "import scipy.stats\n",
        "b=scipy.stats.chi2_contingency(contingency_table)\n",
        "Expected_Values = b[3]\n",
        "print(\"Expected Values :-\\n\",Expected_Values)"
      ],
      "metadata": {
        "colab": {
          "base_uri": "https://localhost:8080/"
        },
        "id": "nYrATElQFB9r",
        "outputId": "a36b08ae-8cfa-4268-f882-c35afc9e1b99"
      },
      "execution_count": 87,
      "outputs": [
        {
          "output_type": "stream",
          "name": "stdout",
          "text": [
            "Expected Values :-\n",
            " [[2.22222222 2.77777778]\n",
            " [1.77777778 2.22222222]]\n"
          ]
        }
      ]
    },
    {
      "cell_type": "code",
      "source": [
        "#Degree of Freedom\n",
        "no_of_rows=len(contingency_table.iloc[0:2,0])\n",
        "no_of_columns=len(contingency_table.iloc[0,0:2])\n",
        "df=(no_of_rows-1)*(no_of_columns-1)\n",
        "print(\"Degree of Freedom:-\",df)"
      ],
      "metadata": {
        "colab": {
          "base_uri": "https://localhost:8080/"
        },
        "id": "v5yIMB33FFxH",
        "outputId": "ec859873-4f66-4983-c0b6-2f360d898500"
      },
      "execution_count": 88,
      "outputs": [
        {
          "output_type": "stream",
          "name": "stdout",
          "text": [
            "Degree of Freedom:- 1\n"
          ]
        }
      ]
    },
    {
      "cell_type": "code",
      "source": [
        "#Significance Level 5%\n",
        "alpha=0.05"
      ],
      "metadata": {
        "id": "Baxh26fYFI-R"
      },
      "execution_count": 89,
      "outputs": []
    },
    {
      "cell_type": "code",
      "source": [
        "#chi-square statistic \n",
        "from scipy.stats import chi2\n",
        "chi_square=sum([(o-e)**2./e for o,e in zip(Observed_Values,Expected_Values)])\n",
        "chi_square_statistic=chi_square[0]+chi_square[1]\n",
        "print(\"chi-square statistic:-\",chi_square_statistic)"
      ],
      "metadata": {
        "colab": {
          "base_uri": "https://localhost:8080/"
        },
        "id": "8Bw2I5wZFLiy",
        "outputId": "6c10ed85-c28b-4879-c0b2-f9291bf3a7d0"
      },
      "execution_count": 90,
      "outputs": [
        {
          "output_type": "stream",
          "name": "stdout",
          "text": [
            "chi-square statistic:- 0.09000000000000008\n"
          ]
        }
      ]
    },
    {
      "cell_type": "code",
      "source": [
        "#critical_value\n",
        "critical_value=chi2.ppf(q=1-alpha,df=df)\n",
        "print('critical_value:',critical_value)"
      ],
      "metadata": {
        "colab": {
          "base_uri": "https://localhost:8080/"
        },
        "id": "2CejZuqGFQB-",
        "outputId": "9e29cc17-108f-4384-fa3a-5e615e1e7b56"
      },
      "execution_count": 91,
      "outputs": [
        {
          "output_type": "stream",
          "name": "stdout",
          "text": [
            "critical_value: 3.841458820694124\n"
          ]
        }
      ]
    },
    {
      "cell_type": "code",
      "source": [
        "#p-value\n",
        "p_value=1-chi2.cdf(x=chi_square_statistic,df=df)\n",
        "print('p-value:',p_value)"
      ],
      "metadata": {
        "colab": {
          "base_uri": "https://localhost:8080/"
        },
        "id": "9r_5ziToFSkI",
        "outputId": "417dc897-440f-439b-f323-49ea10c4deaf"
      },
      "execution_count": 92,
      "outputs": [
        {
          "output_type": "stream",
          "name": "stdout",
          "text": [
            "p-value: 0.7641771556220945\n"
          ]
        }
      ]
    },
    {
      "cell_type": "code",
      "source": [
        "print('Significance level: ',alpha)\n",
        "print('Degree of Freedom: ',df)\n",
        "print('chi-square statistic:',chi_square_statistic)\n",
        "print('critical_value:',critical_value)\n",
        "print('p-value:',p_value)"
      ],
      "metadata": {
        "colab": {
          "base_uri": "https://localhost:8080/"
        },
        "id": "TkpOWVWoFU-U",
        "outputId": "40e7b789-bb36-47c2-8fa6-e43e29483767"
      },
      "execution_count": 93,
      "outputs": [
        {
          "output_type": "stream",
          "name": "stdout",
          "text": [
            "Significance level:  0.05\n",
            "Degree of Freedom:  1\n",
            "chi-square statistic: 0.09000000000000008\n",
            "critical_value: 3.841458820694124\n",
            "p-value: 0.7641771556220945\n"
          ]
        }
      ]
    },
    {
      "cell_type": "code",
      "source": [
        "#comparing chi_square_statistic with critical_value and p-value which is the probability of getting chi-square>0.09 (chi_square_statistic)\n",
        "if chi_square_statistic>=critical_value:\n",
        "    print(\"Reject H0,There is a relationship between 2 categorical variables\")\n",
        "else:\n",
        "    print(\"Retain H0,There is no relationship between 2 categorical variables\")\n",
        "    \n",
        "if p_value<=alpha:\n",
        "    print(\"Reject H0,There is a relationship between 2 categorical variables\")\n",
        "else:\n",
        "    print(\"Retain H0,There is no relationship between 2 categorical variables\")"
      ],
      "metadata": {
        "colab": {
          "base_uri": "https://localhost:8080/"
        },
        "id": "vXRkmGCfFat2",
        "outputId": "31dedcec-dec4-498d-92c2-9ce40882a70e"
      },
      "execution_count": 94,
      "outputs": [
        {
          "output_type": "stream",
          "name": "stdout",
          "text": [
            "Retain H0,There is no relationship between 2 categorical variables\n",
            "Retain H0,There is no relationship between 2 categorical variables\n"
          ]
        }
      ]
    },
    {
      "cell_type": "markdown",
      "source": [
        " ‘Gender’ and ‘likesShopping’ both variables are independent."
      ],
      "metadata": {
        "id": "rI1LE9OrFopd"
      }
    },
    {
      "cell_type": "markdown",
      "source": [
        "# **QUESTION**\n",
        "**Apply T-Test on a dataset**"
      ],
      "metadata": {
        "id": "t7iiB-s-AHG9"
      }
    },
    {
      "cell_type": "markdown",
      "source": [
        "We have two-sample data, each containing heights of 15 students of a class. We need to check whether two different class students have the same mean height."
      ],
      "metadata": {
        "id": "tqWZggBUAbNM"
      }
    },
    {
      "cell_type": "code",
      "source": [
        "import scipy.stats as stats"
      ],
      "metadata": {
        "id": "y9oIIV3IANek"
      },
      "execution_count": 74,
      "outputs": []
    },
    {
      "cell_type": "code",
      "source": [
        "\n",
        "data_group1 = np.array([14, 15, 15, 16, 13, 8, 14,\n",
        "                        17, 16, 14, 19, 20, 21, 15,\n",
        "                        15, 16, 16, 13, 14, 12])\n",
        "data_group2 = np.array([15, 17, 14, 17, 14, 8, 12,\n",
        "                        19, 19, 14, 17, 22, 24, 16,\n",
        "                        13, 16, 13, 18, 15, 13])"
      ],
      "metadata": {
        "id": "HOmXz_QSAQdi"
      },
      "execution_count": 75,
      "outputs": []
    },
    {
      "cell_type": "code",
      "source": [
        " \n",
        "print(stats.ttest_ind(a=data_group1, b=data_group2, equal_var=True))"
      ],
      "metadata": {
        "colab": {
          "base_uri": "https://localhost:8080/"
        },
        "id": "OtpEuM9eAULk",
        "outputId": "76d426b7-b889-4886-97fe-b7990269a444"
      },
      "execution_count": 76,
      "outputs": [
        {
          "output_type": "stream",
          "name": "stdout",
          "text": [
            "Ttest_indResult(statistic=-0.6337397070250238, pvalue=0.5300471010405257)\n"
          ]
        }
      ]
    },
    {
      "cell_type": "markdown",
      "source": [
        "Here, since the p-value (0.53004) is greater than alpha = 0.05 so we cannot reject the null hypothesis of the test. We do not have sufficient evidence to say that the mean height of students between the two data groups is different."
      ],
      "metadata": {
        "id": "RARww_f6Axcd"
      }
    },
    {
      "cell_type": "markdown",
      "source": [
        "# **QUESTION**\n",
        "**Apply Z-Test on a dataset**"
      ],
      "metadata": {
        "id": "tpW141tOAy-o"
      }
    },
    {
      "cell_type": "markdown",
      "source": [
        "######**One Sample Z-Test**\n",
        "The IQ in a certain population is normally distributed with a mean of μ = 100 and standard deviation of σ = 15.\n",
        "A researcher wants to know if a new drug affects IQ levels, so he recruits 20 patients to try it and records their IQ levels.\n",
        "We have to determine if the new drug causes a significant difference in IQ levels."
      ],
      "metadata": {
        "id": "ZwOc9ij5BrIQ"
      }
    },
    {
      "cell_type": "code",
      "source": [
        "from statsmodels.stats.weightstats import ztest as ztest\n",
        "\n",
        "# IQ levels for 20 patients\n",
        "data = [88, 92, 94, 94, 96, 97, 97, 97, 99, 99,\n",
        "        105, 109, 109, 109, 110, 112, 112, 113, 114, 115]"
      ],
      "metadata": {
        "id": "sgjgwDgNA-TH"
      },
      "execution_count": 77,
      "outputs": []
    },
    {
      "cell_type": "code",
      "source": [
        "print(ztest(data, value=100))"
      ],
      "metadata": {
        "colab": {
          "base_uri": "https://localhost:8080/"
        },
        "id": "h0k-lGZTBlw_",
        "outputId": "4359423c-92d2-4752-bc01-572e302c2bfd"
      },
      "execution_count": 78,
      "outputs": [
        {
          "output_type": "stream",
          "name": "stdout",
          "text": [
            "(1.5976240527147705, 0.1101266701438426)\n"
          ]
        }
      ]
    },
    {
      "cell_type": "markdown",
      "source": [
        "Since this p-value is not less than .05, we do not have sufficient evidence to reject the null hypothesis. In other words, the new drug does not significantly affect IQ level."
      ],
      "metadata": {
        "id": "wFrGkohnCORv"
      }
    },
    {
      "cell_type": "markdown",
      "source": [
        "##### **Two Sample Z-Test**"
      ],
      "metadata": {
        "id": "H6O8DrpRCPoI"
      }
    },
    {
      "cell_type": "markdown",
      "source": [
        "The IQ levels among individuals in two different cities are known to be normally distributed with known standard deviations.\n",
        "\n",
        "A researcher wants to know if the mean IQ level between individuals in city A and city B are different, so he selects a simple random sample of  20 individuals from each city and records their IQ levels.\n",
        "We are trying to determine if the mean IQ level is different between the two cities."
      ],
      "metadata": {
        "id": "ycNzoISVCcSL"
      }
    },
    {
      "cell_type": "code",
      "source": [
        "cityA = [82, 84, 85, 89, 91, 91, 92, 94, 99, 99,\n",
        "         105, 109, 109, 109, 110, 112, 112, 113, 114, 114]\n",
        "\n",
        "cityB = [90, 91, 91, 91, 95, 95, 99, 99, 108, 109,\n",
        "         109, 114, 115, 116, 117, 117, 128, 129, 130, 133]"
      ],
      "metadata": {
        "id": "VTNn6MKLCYm3"
      },
      "execution_count": 79,
      "outputs": []
    },
    {
      "cell_type": "code",
      "source": [
        "print(ztest(cityA, cityB, value=0) )"
      ],
      "metadata": {
        "colab": {
          "base_uri": "https://localhost:8080/"
        },
        "id": "dPNYL3XPCw-B",
        "outputId": "ca5d24fb-e811-4336-857c-133b04b1d412"
      },
      "execution_count": 80,
      "outputs": [
        {
          "output_type": "stream",
          "name": "stdout",
          "text": [
            "(-1.9953236073282115, 0.046007596761332065)\n"
          ]
        }
      ]
    },
    {
      "cell_type": "markdown",
      "source": [
        "Since this p-value is less than .05, we have sufficient evidence to reject the null hypothesis. In other words, the mean IQ level is significantly different between the two cities."
      ],
      "metadata": {
        "id": "ln6Vgm4jC3_p"
      }
    },
    {
      "cell_type": "markdown",
      "source": [
        "# **QUESTION**\n",
        "##### **Take any data set and plot graphs**"
      ],
      "metadata": {
        "id": "iAzFq9EhGcs3"
      }
    },
    {
      "cell_type": "code",
      "source": [
        "# LINE PLOT\n",
        "\n",
        "from matplotlib import pyplot as plt\n",
        "years = [1950, 1960, 1970, 1980, 1990, 2000, 2010]\n",
        "gdp = [300.2, 543.3, 1075.9, 2862.5, 5979.6, 10289.7, 14958.3]\n",
        "# create a line chart, years on x-axis, gdp on y-axis\n",
        "plt.plot(years, gdp, color='blue', marker='o', linestyle='solid')\n",
        "# add a title\n",
        "plt.title(\"Nominal GDP\")\n",
        "# add a label to the y-axis\n",
        "plt.ylabel(\"Billions of $\")\n",
        "plt.xlabel(\"Year\")\n",
        "plt.show()\n"
      ],
      "metadata": {
        "colab": {
          "base_uri": "https://localhost:8080/",
          "height": 472
        },
        "id": "FhqcmEV9G2e2",
        "outputId": "816be871-500a-4e87-e6df-9cf79ee72b96"
      },
      "execution_count": 98,
      "outputs": [
        {
          "output_type": "display_data",
          "data": {
            "text/plain": [
              "<Figure size 640x480 with 1 Axes>"
            ],
            "image/png": "[encoded data removed]"
          },
          "metadata": {}
        }
      ]
    },
    {
      "cell_type": "code",
      "source": [
        "# BAR PLOT\n",
        "\n",
        "movies = [\"Annie Hall\", \"Ben-Hur\", \"Casablanca\", \"Gandhi\", \"West Side Story\"]\n",
        "num_oscars = [5, 11, 3, 8, 10]\n",
        "plt.bar(movies, num_oscars)\n",
        "plt.xlabel(\"Name\")\n",
        "plt.ylabel(\"num_oscars\")\n",
        "plt.show()"
      ],
      "metadata": {
        "colab": {
          "base_uri": "https://localhost:8080/",
          "height": 449
        },
        "id": "TIrTz1CZHd8t",
        "outputId": "8b002411-7cf5-4f03-8aab-4bc22ceb6d75"
      },
      "execution_count": 99,
      "outputs": [
        {
          "output_type": "display_data",
          "data": {
            "text/plain": [
              "<Figure size 640x480 with 1 Axes>"
            ],
            "image/png": "[encoded data removed]"
          },
          "metadata": {}
        }
      ]
    },
    {
      "cell_type": "code",
      "source": [
        "# HISTOGRAM\n",
        "\n",
        "x = np.random.normal(170, 10, 250)\n",
        "plt.hist(x)\n",
        "plt.show()"
      ],
      "metadata": {
        "colab": {
          "base_uri": "https://localhost:8080/",
          "height": 430
        },
        "id": "JOFq704FIONI",
        "outputId": "0658e5a2-3b98-4ab7-9052-50343583d22c"
      },
      "execution_count": 100,
      "outputs": [
        {
          "output_type": "display_data",
          "data": {
            "text/plain": [
              "<Figure size 640x480 with 1 Axes>"
            ],
            "image/png": "[encoded data removed]"
          },
          "metadata": {}
        }
      ]
    },
    {
      "cell_type": "code",
      "source": [
        "# SCATTER PLOT\n",
        "\n",
        "test_1_grades = [ 99, 90, 85, 97, 80]\n",
        "test_2_grades = [100, 85, 60, 90, 70]\n",
        "plt.scatter(test_1_grades, test_2_grades)\n",
        "plt.xlabel(\"Test 1 grade\")\n",
        "plt.ylabel(\"Test 2 grade\")\n",
        "plt.show()"
      ],
      "metadata": {
        "colab": {
          "base_uri": "https://localhost:8080/",
          "height": 449
        },
        "id": "I4YubR0uIk_V",
        "outputId": "a88d6c58-db84-4545-a67c-433e96036d8c"
      },
      "execution_count": 102,
      "outputs": [
        {
          "output_type": "display_data",
          "data": {
            "text/plain": [
              "<Figure size 640x480 with 1 Axes>"
            ],
            "image/png": "[encoded data removed]"
          },
          "metadata": {}
        }
      ]
    },
    {
      "cell_type": "code",
      "source": [
        "# PI CHARTS\n",
        "\n",
        "y = np.array([45, 15, 35, 65])\n",
        "mylabels = [\"Cabbage\", \"Potato\", \"Onion\", \"Cauliflower\"]\n",
        "plt.pie(y, labels = mylabels)\n",
        "plt.legend(title = \"Four Vegetables:\")\n",
        "plt.show()"
      ],
      "metadata": {
        "colab": {
          "base_uri": "https://localhost:8080/",
          "height": 406
        },
        "id": "NBovg0PtI6uk",
        "outputId": "c90bfd06-0545-4e17-b151-d5d66489cbd6"
      },
      "execution_count": 105,
      "outputs": [
        {
          "output_type": "display_data",
          "data": {
            "text/plain": [
              "<Figure size 640x480 with 1 Axes>"
            ],
            "image/png": "[encoded data removed]"
          },
          "metadata": {}
        }
      ]
    }
  ]
}